{
  "nbformat": 4,
  "nbformat_minor": 0,
  "metadata": {
    "colab": {
      "provenance": [],
      "authorship_tag": "ABX9TyO8pqdz80E4hcU3ASx1QPla"
    },
    "kernelspec": {
      "name": "python3",
      "display_name": "Python 3"
    },
    "language_info": {
      "name": "python"
    }
  },
  "cells": [
    {
      "cell_type": "code",
      "source": [
        "# opening the file in read mode\n",
        "my_file = open(\"/content/data_maxar_cianjur.txt\", \"r\")\n",
        "  \n",
        "# reading the file\n",
        "data = my_file.read()\n",
        "  \n",
        "# replacing end splitting the text \n",
        "# when newline ('\\n') is seen.\n",
        "data_into_list = data.split(\"\\n\")\n",
        "print(data_into_list)\n",
        "my_file.close()"
      ],
      "metadata": {
        "colab": {
          "base_uri": "https://localhost:8080/"
        },
        "id": "Fu-kWoww29J_",
        "outputId": "a0f43d58-6d46-48cd-e153-a90b1fd943d5"
      },
      "execution_count": 4,
      "outputs": [
        {
          "output_type": "stream",
          "name": "stdout",
          "text": [
            "['https://maxar-opendata.s3.us-west-2.amazonaws.com/events/Indonesia-Earthquake22/ard/48/300020130222/2022-11-28/10300100DE2DD700-visual.tif', 'https://maxar-opendata.s3.us-west-2.amazonaws.com/events/Indonesia-Earthquake22/ard/48/300020130222/2022-11-28/10300100DD6AE200-visual.tif', 'https://maxar-opendata.s3.us-west-2.amazonaws.com/events/Indonesia-Earthquake22/ard/48/300020130222/2022-11-23/10300100DE5CCF00-visual.tif', 'https://maxar-opendata.s3.us-west-2.amazonaws.com/events/Indonesia-Earthquake22/ard/48/300020130220/2022-11-28/10300100DE2DD700-visual.tif', 'https://maxar-opendata.s3.us-west-2.amazonaws.com/events/Indonesia-Earthquake22/ard/48/300020130220/2022-11-28/10300100DD6AE200-visual.tif', 'https://maxar-opendata.s3.us-west-2.amazonaws.com/events/Indonesia-Earthquake22/ard/48/300020130220/2022-11-23/10300100DE5CCF00-visual.tif', 'https://maxar-opendata.s3.us-west-2.amazonaws.com/events/Indonesia-Earthquake22/ard/48/300020130202/2022-11-28/10300100DE2DD700-visual.tif', 'https://maxar-opendata.s3.us-west-2.amazonaws.com/events/Indonesia-Earthquake22/ard/48/300020130202/2022-11-28/10300100DD6AE200-visual.tif', 'https://maxar-opendata.s3.us-west-2.amazonaws.com/events/Indonesia-Earthquake22/ard/48/300020130202/2022-11-23/10300100DE5CCF00-visual.tif', 'https://maxar-opendata.s3.us-west-2.amazonaws.com/events/Indonesia-Earthquake22/ard/48/300020123121/2022-11-28/10300100DD6AE200-visual.tif', 'https://maxar-opendata.s3.us-west-2.amazonaws.com/events/Indonesia-Earthquake22/ard/48/300020123120/2022-11-28/10300100DD6AE200-visual.tif', 'https://maxar-opendata.s3.us-west-2.amazonaws.com/events/Indonesia-Earthquake22/ard/48/300020123110/2022-11-28/10300100DE2DD700-visual.tif', 'https://maxar-opendata.s3.us-west-2.amazonaws.com/events/Indonesia-Earthquake22/ard/48/300020123110/2022-11-28/10300100DD6AE200-visual.tif', 'https://maxar-opendata.s3.us-west-2.amazonaws.com/events/Indonesia-Earthquake22/ard/48/300020123110/2022-11-23/10300100DE5CCF00-visual.tif', 'https://maxar-opendata.s3.us-west-2.amazonaws.com/events/Indonesia-Earthquake22/ard/48/300020123103/2022-11-28/10300100DD6AE200-visual.tif', 'https://maxar-opendata.s3.us-west-2.amazonaws.com/events/Indonesia-Earthquake22/ard/48/300020123103/2022-11-23/10300100DE5CCF00-visual.tif', 'https://maxar-opendata.s3.us-west-2.amazonaws.com/events/Indonesia-Earthquake22/ard/48/300020123102/2022-11-28/10300100DD6AE200-visual.tif', 'https://maxar-opendata.s3.us-west-2.amazonaws.com/events/Indonesia-Earthquake22/ard/48/300020123102/2022-11-23/10300100DE5CCF00-visual.tif', 'https://maxar-opendata.s3.us-west-2.amazonaws.com/events/Indonesia-Earthquake22/ard/48/300020123101/2022-11-28/10300100DE2DD700-visual.tif', 'https://maxar-opendata.s3.us-west-2.amazonaws.com/events/Indonesia-Earthquake22/ard/48/300020123101/2022-11-28/10300100DD6AE200-visual.tif', 'https://maxar-opendata.s3.us-west-2.amazonaws.com/events/Indonesia-Earthquake22/ard/48/300020123101/2022-11-23/10300100DE5CCF00-visual.tif', 'https://maxar-opendata.s3.us-west-2.amazonaws.com/events/Indonesia-Earthquake22/ard/48/300020123100/2022-11-28/10300100DD6AE200-visual.tif', 'https://maxar-opendata.s3.us-west-2.amazonaws.com/events/Indonesia-Earthquake22/ard/48/300020123100/2022-11-23/10300100DE5CCF00-visual.tif', 'https://maxar-opendata.s3.us-west-2.amazonaws.com/events/Indonesia-Earthquake22/ard/48/300020123031/2022-11-28/10300100DD6AE200-visual.tif', 'https://maxar-opendata.s3.us-west-2.amazonaws.com/events/Indonesia-Earthquake22/ard/48/300020123013/2022-11-28/10300100DD6AE200-visual.tif', 'https://maxar-opendata.s3.us-west-2.amazonaws.com/events/Indonesia-Earthquake22/ard/48/300020123011/2022-11-28/10300100DD6AE200-visual.tif', 'https://maxar-opendata.s3.us-west-2.amazonaws.com/events/Indonesia-Earthquake22/ard/48/300020121333/2022-11-28/10300100DE2DD700-visual.tif', 'https://maxar-opendata.s3.us-west-2.amazonaws.com/events/Indonesia-Earthquake22/ard/48/300020121333/2022-11-28/10300100DD6AE200-visual.tif', 'https://maxar-opendata.s3.us-west-2.amazonaws.com/events/Indonesia-Earthquake22/ard/48/300020121333/2022-11-23/10300100DE5CCF00-visual.tif', 'https://maxar-opendata.s3.us-west-2.amazonaws.com/events/Indonesia-Earthquake22/ard/48/300020121332/2022-11-28/10300100DE2DD700-visual.tif', 'https://maxar-opendata.s3.us-west-2.amazonaws.com/events/Indonesia-Earthquake22/ard/48/300020121332/2022-11-28/10300100DD6AE200-visual.tif', 'https://maxar-opendata.s3.us-west-2.amazonaws.com/events/Indonesia-Earthquake22/ard/48/300020121332/2022-11-23/10300100DE5CCF00-visual.tif', 'https://maxar-opendata.s3.us-west-2.amazonaws.com/events/Indonesia-Earthquake22/ard/48/300020121331/2022-11-28/10300100DE2DD700-visual.tif', 'https://maxar-opendata.s3.us-west-2.amazonaws.com/events/Indonesia-Earthquake22/ard/48/300020121331/2022-11-28/10300100DD6AE200-visual.tif', 'https://maxar-opendata.s3.us-west-2.amazonaws.com/events/Indonesia-Earthquake22/ard/48/300020121331/2022-11-23/10300100DE5CCF00-visual.tif', 'https://maxar-opendata.s3.us-west-2.amazonaws.com/events/Indonesia-Earthquake22/ard/48/300020121330/2022-11-28/10300100DE2DD700-visual.tif', 'https://maxar-opendata.s3.us-west-2.amazonaws.com/events/Indonesia-Earthquake22/ard/48/300020121330/2022-11-28/10300100DD6AE200-visual.tif', 'https://maxar-opendata.s3.us-west-2.amazonaws.com/events/Indonesia-Earthquake22/ard/48/300020121330/2022-11-23/10300100DE5CCF00-visual.tif', 'https://maxar-opendata.s3.us-west-2.amazonaws.com/events/Indonesia-Earthquake22/ard/48/300020121323/2022-11-28/10300100DE2DD700-visual.tif', 'https://maxar-opendata.s3.us-west-2.amazonaws.com/events/Indonesia-Earthquake22/ard/48/300020121323/2022-11-28/10300100DD6AE200-visual.tif', 'https://maxar-opendata.s3.us-west-2.amazonaws.com/events/Indonesia-Earthquake22/ard/48/300020121323/2022-11-23/10300100DE5CCF00-visual.tif', 'https://maxar-opendata.s3.us-west-2.amazonaws.com/events/Indonesia-Earthquake22/ard/48/300020121322/2022-11-28/10300100DD6AE200-visual.tif', 'https://maxar-opendata.s3.us-west-2.amazonaws.com/events/Indonesia-Earthquake22/ard/48/300020121322/2022-11-23/10300100DE5CCF00-visual.tif', 'https://maxar-opendata.s3.us-west-2.amazonaws.com/events/Indonesia-Earthquake22/ard/48/300020121321/2022-11-28/10300100DE2DD700-visual.tif', 'https://maxar-opendata.s3.us-west-2.amazonaws.com/events/Indonesia-Earthquake22/ard/48/300020121321/2022-11-28/10300100DD6AE200-visual.tif', 'https://maxar-opendata.s3.us-west-2.amazonaws.com/events/Indonesia-Earthquake22/ard/48/300020121321/2022-11-23/10300100DE5CCF00-visual.tif', 'https://maxar-opendata.s3.us-west-2.amazonaws.com/events/Indonesia-Earthquake22/ard/48/300020121320/2022-11-28/10300100DD6AE200-visual.tif', 'https://maxar-opendata.s3.us-west-2.amazonaws.com/events/Indonesia-Earthquake22/ard/48/300020121320/2022-11-23/10300100DE5CCF00-visual.tif', 'https://maxar-opendata.s3.us-west-2.amazonaws.com/events/Indonesia-Earthquake22/ard/48/300020121313/2022-11-28/10300100DE2DD700-visual.tif', 'https://maxar-opendata.s3.us-west-2.amazonaws.com/events/Indonesia-Earthquake22/ard/48/300020121313/2022-11-28/10300100DD6AE200-visual.tif', 'https://maxar-opendata.s3.us-west-2.amazonaws.com/events/Indonesia-Earthquake22/ard/48/300020121313/2022-11-23/10300100DE5CCF00-visual.tif', 'https://maxar-opendata.s3.us-west-2.amazonaws.com/events/Indonesia-Earthquake22/ard/48/300020121312/2022-11-28/10300100DE2DD700-visual.tif', 'https://maxar-opendata.s3.us-west-2.amazonaws.com/events/Indonesia-Earthquake22/ard/48/300020121312/2022-11-28/10300100DD6AE200-visual.tif', 'https://maxar-opendata.s3.us-west-2.amazonaws.com/events/Indonesia-Earthquake22/ard/48/300020121312/2022-11-23/10300100DE5CCF00-visual.tif', 'https://maxar-opendata.s3.us-west-2.amazonaws.com/events/Indonesia-Earthquake22/ard/48/300020121233/2022-11-28/10300100DD6AE200-visual.tif', 'https://maxar-opendata.s3.us-west-2.amazonaws.com/events/Indonesia-Earthquake22/ard/48/300020121231/2022-11-28/10300100DD6AE200-visual.tif', 'https://maxar-opendata.s3.us-west-2.amazonaws.com/events/Indonesia-Earthquake22/ard/48/300020130222/2021-11-27/10300100C912CA00-visual.tif', 'https://maxar-opendata.s3.us-west-2.amazonaws.com/events/Indonesia-Earthquake22/ard/48/300020130220/2021-11-27/10300100C912CA00-visual.tif', 'https://maxar-opendata.s3.us-west-2.amazonaws.com/events/Indonesia-Earthquake22/ard/48/300020130202/2021-11-27/10300100C912CA00-visual.tif', 'https://maxar-opendata.s3.us-west-2.amazonaws.com/events/Indonesia-Earthquake22/ard/48/300020123121/2022-01-04/10300100CB626A00-visual.tif', 'https://maxar-opendata.s3.us-west-2.amazonaws.com/events/Indonesia-Earthquake22/ard/48/300020123121/2021-11-27/10300100C912CA00-visual.tif', 'https://maxar-opendata.s3.us-west-2.amazonaws.com/events/Indonesia-Earthquake22/ard/48/300020123120/2022-01-04/10300100CB626A00-visual.tif', 'https://maxar-opendata.s3.us-west-2.amazonaws.com/events/Indonesia-Earthquake22/ard/48/300020123120/2021-07-04/104001006B084C00-visual.tif', 'https://maxar-opendata.s3.us-west-2.amazonaws.com/events/Indonesia-Earthquake22/ard/48/300020123110/2022-09-14/105001002EA2FA00-visual.tif', 'https://maxar-opendata.s3.us-west-2.amazonaws.com/events/Indonesia-Earthquake22/ard/48/300020123110/2022-01-04/10300100CB626A00-visual.tif', 'https://maxar-opendata.s3.us-west-2.amazonaws.com/events/Indonesia-Earthquake22/ard/48/300020123110/2021-11-27/10300100C912CA00-visual.tif', 'https://maxar-opendata.s3.us-west-2.amazonaws.com/events/Indonesia-Earthquake22/ard/48/300020123103/2022-01-04/10300100CB626A00-visual.tif', 'https://maxar-opendata.s3.us-west-2.amazonaws.com/events/Indonesia-Earthquake22/ard/48/300020123103/2021-11-27/10300100C912CA00-visual.tif', 'https://maxar-opendata.s3.us-west-2.amazonaws.com/events/Indonesia-Earthquake22/ard/48/300020123102/2022-01-04/10300100CB626A00-visual.tif', 'https://maxar-opendata.s3.us-west-2.amazonaws.com/events/Indonesia-Earthquake22/ard/48/300020123102/2021-07-04/104001006B084C00-visual.tif', 'https://maxar-opendata.s3.us-west-2.amazonaws.com/events/Indonesia-Earthquake22/ard/48/300020123101/2022-09-14/105001002EA2FA00-visual.tif', 'https://maxar-opendata.s3.us-west-2.amazonaws.com/events/Indonesia-Earthquake22/ard/48/300020123101/2022-01-04/10300100CB626A00-visual.tif', 'https://maxar-opendata.s3.us-west-2.amazonaws.com/events/Indonesia-Earthquake22/ard/48/300020123101/2021-11-27/10300100C912CA00-visual.tif', 'https://maxar-opendata.s3.us-west-2.amazonaws.com/events/Indonesia-Earthquake22/ard/48/300020123100/2022-09-14/105001002EA2FA00-visual.tif', 'https://maxar-opendata.s3.us-west-2.amazonaws.com/events/Indonesia-Earthquake22/ard/48/300020123100/2022-01-04/10300100CB626A00-visual.tif', 'https://maxar-opendata.s3.us-west-2.amazonaws.com/events/Indonesia-Earthquake22/ard/48/300020123100/2021-07-04/104001006B084C00-visual.tif', 'https://maxar-opendata.s3.us-west-2.amazonaws.com/events/Indonesia-Earthquake22/ard/48/300020123031/2022-01-04/10300100CB626A00-visual.tif', 'https://maxar-opendata.s3.us-west-2.amazonaws.com/events/Indonesia-Earthquake22/ard/48/300020123031/2021-07-04/104001006B084C00-visual.tif', 'https://maxar-opendata.s3.us-west-2.amazonaws.com/events/Indonesia-Earthquake22/ard/48/300020123030/2021-09-09/10300100C5655B00-visual.tif', 'https://maxar-opendata.s3.us-west-2.amazonaws.com/events/Indonesia-Earthquake22/ard/48/300020123030/2021-07-04/104001006B084C00-visual.tif', 'https://maxar-opendata.s3.us-west-2.amazonaws.com/events/Indonesia-Earthquake22/ard/48/300020123013/2022-01-04/10300100CB626A00-visual.tif', 'https://maxar-opendata.s3.us-west-2.amazonaws.com/events/Indonesia-Earthquake22/ard/48/300020123013/2021-07-04/104001006B084C00-visual.tif', 'https://maxar-opendata.s3.us-west-2.amazonaws.com/events/Indonesia-Earthquake22/ard/48/300020123012/2021-09-09/10300100C5655B00-visual.tif', 'https://maxar-opendata.s3.us-west-2.amazonaws.com/events/Indonesia-Earthquake22/ard/48/300020123012/2021-07-04/104001006B084C00-visual.tif', 'https://maxar-opendata.s3.us-west-2.amazonaws.com/events/Indonesia-Earthquake22/ard/48/300020123011/2022-09-14/105001002EA2FA00-visual.tif', 'https://maxar-opendata.s3.us-west-2.amazonaws.com/events/Indonesia-Earthquake22/ard/48/300020123011/2022-01-04/10300100CB626A00-visual.tif', 'https://maxar-opendata.s3.us-west-2.amazonaws.com/events/Indonesia-Earthquake22/ard/48/300020123011/2021-07-04/104001006B084C00-visual.tif', 'https://maxar-opendata.s3.us-west-2.amazonaws.com/events/Indonesia-Earthquake22/ard/48/300020123010/2022-09-14/105001002EA2FA00-visual.tif', 'https://maxar-opendata.s3.us-west-2.amazonaws.com/events/Indonesia-Earthquake22/ard/48/300020123010/2021-09-09/10300100C5655B00-visual.tif', 'https://maxar-opendata.s3.us-west-2.amazonaws.com/events/Indonesia-Earthquake22/ard/48/300020123010/2021-07-04/104001006B084C00-visual.tif', 'https://maxar-opendata.s3.us-west-2.amazonaws.com/events/Indonesia-Earthquake22/ard/48/300020121333/2022-01-04/10300100CB626A00-visual.tif', 'https://maxar-opendata.s3.us-west-2.amazonaws.com/events/Indonesia-Earthquake22/ard/48/300020121333/2021-11-27/10300100C912CA00-visual.tif', 'https://maxar-opendata.s3.us-west-2.amazonaws.com/events/Indonesia-Earthquake22/ard/48/300020121332/2022-09-14/105001002EA2FA00-visual.tif', 'https://maxar-opendata.s3.us-west-2.amazonaws.com/events/Indonesia-Earthquake22/ard/48/300020121332/2022-01-04/10300100CB626A00-visual.tif', 'https://maxar-opendata.s3.us-west-2.amazonaws.com/events/Indonesia-Earthquake22/ard/48/300020121332/2021-11-27/10300100C912CA00-visual.tif', 'https://maxar-opendata.s3.us-west-2.amazonaws.com/events/Indonesia-Earthquake22/ard/48/300020121331/2022-01-04/10300100CB626A00-visual.tif', 'https://maxar-opendata.s3.us-west-2.amazonaws.com/events/Indonesia-Earthquake22/ard/48/300020121331/2021-11-27/10300100C912CA00-visual.tif', 'https://maxar-opendata.s3.us-west-2.amazonaws.com/events/Indonesia-Earthquake22/ard/48/300020121330/2022-09-14/105001002EA2FA00-visual.tif', 'https://maxar-opendata.s3.us-west-2.amazonaws.com/events/Indonesia-Earthquake22/ard/48/300020121330/2022-01-04/10300100CB626A00-visual.tif', 'https://maxar-opendata.s3.us-west-2.amazonaws.com/events/Indonesia-Earthquake22/ard/48/300020121330/2021-11-27/10300100C912CA00-visual.tif', 'https://maxar-opendata.s3.us-west-2.amazonaws.com/events/Indonesia-Earthquake22/ard/48/300020121323/2022-09-14/105001002EA2FA00-visual.tif', 'https://maxar-opendata.s3.us-west-2.amazonaws.com/events/Indonesia-Earthquake22/ard/48/300020121323/2022-01-04/10300100CB626A00-visual.tif', 'https://maxar-opendata.s3.us-west-2.amazonaws.com/events/Indonesia-Earthquake22/ard/48/300020121323/2021-11-27/10300100C912CA00-visual.tif', 'https://maxar-opendata.s3.us-west-2.amazonaws.com/events/Indonesia-Earthquake22/ard/48/300020121322/2022-09-14/105001002EA2FA00-visual.tif', 'https://maxar-opendata.s3.us-west-2.amazonaws.com/events/Indonesia-Earthquake22/ard/48/300020121322/2022-01-04/10300100CB626A00-visual.tif', 'https://maxar-opendata.s3.us-west-2.amazonaws.com/events/Indonesia-Earthquake22/ard/48/300020121322/2021-07-04/104001006B084C00-visual.tif', 'https://maxar-opendata.s3.us-west-2.amazonaws.com/events/Indonesia-Earthquake22/ard/48/300020121321/2022-09-14/105001002EA2FA00-visual.tif', 'https://maxar-opendata.s3.us-west-2.amazonaws.com/events/Indonesia-Earthquake22/ard/48/300020121321/2022-01-04/10300100CB626A00-visual.tif', 'https://maxar-opendata.s3.us-west-2.amazonaws.com/events/Indonesia-Earthquake22/ard/48/300020121321/2021-11-27/10300100C912CA00-visual.tif', 'https://maxar-opendata.s3.us-west-2.amazonaws.com/events/Indonesia-Earthquake22/ard/48/300020121320/2022-01-04/10300100CB626A00-visual.tif', 'https://maxar-opendata.s3.us-west-2.amazonaws.com/events/Indonesia-Earthquake22/ard/48/300020121320/2021-07-04/104001006B084C00-visual.tif', 'https://maxar-opendata.s3.us-west-2.amazonaws.com/events/Indonesia-Earthquake22/ard/48/300020121313/2022-01-04/10300100CB626A00-visual.tif', 'https://maxar-opendata.s3.us-west-2.amazonaws.com/events/Indonesia-Earthquake22/ard/48/300020121313/2021-11-27/10300100C912CA00-visual.tif', 'https://maxar-opendata.s3.us-west-2.amazonaws.com/events/Indonesia-Earthquake22/ard/48/300020121312/2022-01-04/10300100CB626A00-visual.tif', 'https://maxar-opendata.s3.us-west-2.amazonaws.com/events/Indonesia-Earthquake22/ard/48/300020121312/2021-11-27/10300100C912CA00-visual.tif', 'https://maxar-opendata.s3.us-west-2.amazonaws.com/events/Indonesia-Earthquake22/ard/48/300020121233/2022-09-14/105001002EA2FA00-visual.tif', 'https://maxar-opendata.s3.us-west-2.amazonaws.com/events/Indonesia-Earthquake22/ard/48/300020121233/2022-01-04/10300100CB626A00-visual.tif', 'https://maxar-opendata.s3.us-west-2.amazonaws.com/events/Indonesia-Earthquake22/ard/48/300020121233/2021-07-04/104001006B084C00-visual.tif', 'https://maxar-opendata.s3.us-west-2.amazonaws.com/events/Indonesia-Earthquake22/ard/48/300020121232/2022-09-14/105001002EA2FA00-visual.tif', 'https://maxar-opendata.s3.us-west-2.amazonaws.com/events/Indonesia-Earthquake22/ard/48/300020121232/2021-09-09/10300100C5655B00-visual.tif', 'https://maxar-opendata.s3.us-west-2.amazonaws.com/events/Indonesia-Earthquake22/ard/48/300020121232/2021-07-04/104001006B084C00-visual.tif', 'https://maxar-opendata.s3.us-west-2.amazonaws.com/events/Indonesia-Earthquake22/ard/48/300020121231/2022-01-04/10300100CB626A00-visual.tif', 'https://maxar-opendata.s3.us-west-2.amazonaws.com/events/Indonesia-Earthquake22/ard/48/300020121231/2021-07-04/104001006B084C00-visual.tif', 'https://maxar-opendata.s3.us-west-2.amazonaws.com/events/Indonesia-Earthquake22/ard/48/300020121230/2021-07-04/104001006B084C00-visual.tif']\n"
          ]
        }
      ]
    },
    {
      "cell_type": "code",
      "source": [
        "import os\n",
        "import requests\n",
        "\n",
        "def download(urls: str, dest_folder: str):\n",
        "    if not os.path.exists(dest_folder):\n",
        "        os.makedirs(dest_folder)  # create folder if it does not exist\n",
        "\n",
        "    for url in urls:\n",
        "      filename1 = url.split('/')[-2].replace(\" \", \"_\")  # be careful with file names\n",
        "      filename2 = url.split('/')[-1].replace(\" \", \"_\")  # be careful with file names\n",
        "      filename = filename1+ \" \"+filename2\n",
        "      file_path = os.path.join(dest_folder, filename)\n",
        "\n",
        "      r = requests.get(url, stream=True)\n",
        "      if r.ok:\n",
        "          print(\"saving to\", os.path.abspath(file_path))\n",
        "          with open(file_path, 'wb') as f:\n",
        "              for chunk in r.iter_content(chunk_size=1024 * 8):\n",
        "                  if chunk:\n",
        "                      f.write(chunk)\n",
        "                      f.flush()\n",
        "                      os.fsync(f.fileno())\n",
        "      else:  # HTTP status code 4XX/5XX\n",
        "          print(\"Download failed: status code {}\\n{}\".format(r.status_code, r.text))\n",
        "\n",
        "\n"
      ],
      "metadata": {
        "id": "djzpj0bqjgoN"
      },
      "execution_count": 10,
      "outputs": []
    },
    {
      "cell_type": "code",
      "source": [
        "download(data_into_list, dest_folder=\"imagery\")"
      ],
      "metadata": {
        "colab": {
          "base_uri": "https://localhost:8080/"
        },
        "id": "bcfzB5Rlygnl",
        "outputId": "3d143da2-6a41-4135-edde-203080d7f086"
      },
      "execution_count": null,
      "outputs": [
        {
          "output_type": "stream",
          "name": "stdout",
          "text": [
            "saving to /content/imagery/2022-11-28 10300100DE2DD700-visual.tif\n",
            "saving to /content/imagery/2022-11-28 10300100DD6AE200-visual.tif\n",
            "saving to /content/imagery/2022-11-23 10300100DE5CCF00-visual.tif\n",
            "saving to /content/imagery/2022-11-28 10300100DE2DD700-visual.tif\n",
            "saving to /content/imagery/2022-11-28 10300100DD6AE200-visual.tif\n",
            "saving to /content/imagery/2022-11-23 10300100DE5CCF00-visual.tif\n",
            "saving to /content/imagery/2022-11-28 10300100DE2DD700-visual.tif\n",
            "saving to /content/imagery/2022-11-28 10300100DD6AE200-visual.tif\n",
            "saving to /content/imagery/2022-11-23 10300100DE5CCF00-visual.tif\n",
            "saving to /content/imagery/2022-11-28 10300100DD6AE200-visual.tif\n",
            "saving to /content/imagery/2022-11-28 10300100DD6AE200-visual.tif\n",
            "saving to /content/imagery/2022-11-28 10300100DE2DD700-visual.tif\n",
            "saving to /content/imagery/2022-11-28 10300100DD6AE200-visual.tif\n",
            "saving to /content/imagery/2022-11-23 10300100DE5CCF00-visual.tif\n",
            "saving to /content/imagery/2022-11-28 10300100DD6AE200-visual.tif\n",
            "saving to /content/imagery/2022-11-23 10300100DE5CCF00-visual.tif\n",
            "saving to /content/imagery/2022-11-28 10300100DD6AE200-visual.tif\n",
            "saving to /content/imagery/2022-11-23 10300100DE5CCF00-visual.tif\n",
            "saving to /content/imagery/2022-11-28 10300100DE2DD700-visual.tif\n",
            "saving to /content/imagery/2022-11-28 10300100DD6AE200-visual.tif\n",
            "saving to /content/imagery/2022-11-23 10300100DE5CCF00-visual.tif\n",
            "saving to /content/imagery/2022-11-28 10300100DD6AE200-visual.tif\n",
            "saving to /content/imagery/2022-11-23 10300100DE5CCF00-visual.tif\n",
            "saving to /content/imagery/2022-11-28 10300100DD6AE200-visual.tif\n",
            "saving to /content/imagery/2022-11-28 10300100DD6AE200-visual.tif\n",
            "saving to /content/imagery/2022-11-28 10300100DD6AE200-visual.tif\n",
            "saving to /content/imagery/2022-11-28 10300100DE2DD700-visual.tif\n",
            "saving to /content/imagery/2022-11-28 10300100DD6AE200-visual.tif\n",
            "saving to /content/imagery/2022-11-23 10300100DE5CCF00-visual.tif\n",
            "saving to /content/imagery/2022-11-28 10300100DE2DD700-visual.tif\n",
            "saving to /content/imagery/2022-11-28 10300100DD6AE200-visual.tif\n",
            "saving to /content/imagery/2022-11-23 10300100DE5CCF00-visual.tif\n",
            "saving to /content/imagery/2022-11-28 10300100DE2DD700-visual.tif\n",
            "saving to /content/imagery/2022-11-28 10300100DD6AE200-visual.tif\n",
            "saving to /content/imagery/2022-11-23 10300100DE5CCF00-visual.tif\n",
            "saving to /content/imagery/2022-11-28 10300100DE2DD700-visual.tif\n",
            "saving to /content/imagery/2022-11-28 10300100DD6AE200-visual.tif\n",
            "saving to /content/imagery/2022-11-23 10300100DE5CCF00-visual.tif\n",
            "saving to /content/imagery/2022-11-28 10300100DE2DD700-visual.tif\n",
            "saving to /content/imagery/2022-11-28 10300100DD6AE200-visual.tif\n",
            "saving to /content/imagery/2022-11-23 10300100DE5CCF00-visual.tif\n",
            "saving to /content/imagery/2022-11-28 10300100DD6AE200-visual.tif\n",
            "saving to /content/imagery/2022-11-23 10300100DE5CCF00-visual.tif\n",
            "saving to /content/imagery/2022-11-28 10300100DE2DD700-visual.tif\n",
            "saving to /content/imagery/2022-11-28 10300100DD6AE200-visual.tif\n",
            "saving to /content/imagery/2022-11-23 10300100DE5CCF00-visual.tif\n",
            "saving to /content/imagery/2022-11-28 10300100DD6AE200-visual.tif\n",
            "saving to /content/imagery/2022-11-23 10300100DE5CCF00-visual.tif\n",
            "saving to /content/imagery/2022-11-28 10300100DE2DD700-visual.tif\n",
            "saving to /content/imagery/2022-11-28 10300100DD6AE200-visual.tif\n",
            "saving to /content/imagery/2022-11-23 10300100DE5CCF00-visual.tif\n",
            "saving to /content/imagery/2022-11-28 10300100DE2DD700-visual.tif\n",
            "saving to /content/imagery/2022-11-28 10300100DD6AE200-visual.tif\n",
            "saving to /content/imagery/2022-11-23 10300100DE5CCF00-visual.tif\n",
            "saving to /content/imagery/2022-11-28 10300100DD6AE200-visual.tif\n",
            "saving to /content/imagery/2022-11-28 10300100DD6AE200-visual.tif\n",
            "saving to /content/imagery/2021-11-27 10300100C912CA00-visual.tif\n",
            "saving to /content/imagery/2021-11-27 10300100C912CA00-visual.tif\n",
            "saving to /content/imagery/2021-11-27 10300100C912CA00-visual.tif\n",
            "saving to /content/imagery/2022-01-04 10300100CB626A00-visual.tif\n",
            "saving to /content/imagery/2021-11-27 10300100C912CA00-visual.tif\n",
            "saving to /content/imagery/2022-01-04 10300100CB626A00-visual.tif\n",
            "saving to /content/imagery/2021-07-04 104001006B084C00-visual.tif\n",
            "saving to /content/imagery/2022-09-14 105001002EA2FA00-visual.tif\n",
            "saving to /content/imagery/2022-01-04 10300100CB626A00-visual.tif\n",
            "saving to /content/imagery/2021-11-27 10300100C912CA00-visual.tif\n",
            "saving to /content/imagery/2022-01-04 10300100CB626A00-visual.tif\n",
            "saving to /content/imagery/2021-11-27 10300100C912CA00-visual.tif\n",
            "saving to /content/imagery/2022-01-04 10300100CB626A00-visual.tif\n",
            "saving to /content/imagery/2021-07-04 104001006B084C00-visual.tif\n",
            "saving to /content/imagery/2022-09-14 105001002EA2FA00-visual.tif\n",
            "saving to /content/imagery/2022-01-04 10300100CB626A00-visual.tif\n",
            "saving to /content/imagery/2021-11-27 10300100C912CA00-visual.tif\n",
            "saving to /content/imagery/2022-09-14 105001002EA2FA00-visual.tif\n",
            "saving to /content/imagery/2022-01-04 10300100CB626A00-visual.tif\n",
            "saving to /content/imagery/2021-07-04 104001006B084C00-visual.tif\n",
            "saving to /content/imagery/2022-01-04 10300100CB626A00-visual.tif\n",
            "saving to /content/imagery/2021-07-04 104001006B084C00-visual.tif\n",
            "saving to /content/imagery/2021-09-09 10300100C5655B00-visual.tif\n",
            "saving to /content/imagery/2021-07-04 104001006B084C00-visual.tif\n",
            "saving to /content/imagery/2022-01-04 10300100CB626A00-visual.tif\n",
            "saving to /content/imagery/2021-07-04 104001006B084C00-visual.tif\n",
            "saving to /content/imagery/2021-09-09 10300100C5655B00-visual.tif\n",
            "saving to /content/imagery/2021-07-04 104001006B084C00-visual.tif\n",
            "saving to /content/imagery/2022-09-14 105001002EA2FA00-visual.tif\n",
            "saving to /content/imagery/2022-01-04 10300100CB626A00-visual.tif\n",
            "saving to /content/imagery/2021-07-04 104001006B084C00-visual.tif\n",
            "saving to /content/imagery/2022-09-14 105001002EA2FA00-visual.tif\n",
            "saving to /content/imagery/2021-09-09 10300100C5655B00-visual.tif\n",
            "saving to /content/imagery/2021-07-04 104001006B084C00-visual.tif\n",
            "saving to /content/imagery/2022-01-04 10300100CB626A00-visual.tif\n",
            "saving to /content/imagery/2021-11-27 10300100C912CA00-visual.tif\n",
            "saving to /content/imagery/2022-09-14 105001002EA2FA00-visual.tif\n",
            "saving to /content/imagery/2022-01-04 10300100CB626A00-visual.tif\n",
            "saving to /content/imagery/2021-11-27 10300100C912CA00-visual.tif\n",
            "saving to /content/imagery/2022-01-04 10300100CB626A00-visual.tif\n",
            "saving to /content/imagery/2021-11-27 10300100C912CA00-visual.tif\n"
          ]
        }
      ]
    },
    {
      "cell_type": "code",
      "source": [
        "import shutil\n",
        "shutil.make_archive(\"Data Imagery\", 'zip', \"imagery\")"
      ],
      "metadata": {
        "colab": {
          "base_uri": "https://localhost:8080/"
        },
        "id": "qrEh1AUOkLQ4",
        "outputId": "6d244d34-4900-4658-97aa-f492d4c6b408"
      },
      "execution_count": null,
      "outputs": [
        {
          "output_type": "stream",
          "name": "stdout",
          "text": [
            "{\"message\":\"Invalid request token.\"}\n"
          ]
        }
      ]
    },
    {
      "cell_type": "code",
      "source": [],
      "metadata": {
        "id": "rHdAuTfMVtVZ"
      },
      "execution_count": null,
      "outputs": []
    }
  ]
}